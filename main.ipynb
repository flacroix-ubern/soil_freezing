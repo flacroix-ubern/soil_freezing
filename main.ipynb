{
 "cells": [
  {
   "cell_type": "code",
   "execution_count": 1,
   "metadata": {},
   "outputs": [],
   "source": [
    "\"\"\"Contains functions to compute soil freezing/thawing depending\n",
    "on soil temperatures, moisture and heat flux of a soil profile. \n",
    "Contains:\n",
    "- init_temp_vars() # initialize temporary help variables\n",
    "- compute_soil_freezing() # main program\n",
    "\n",
    "\"\"\"\n",
    "import numpy as np\n",
    "import soil_constants as sc"
   ]
  },
  {
   "cell_type": "code",
   "execution_count": 12,
   "metadata": {},
   "outputs": [],
   "source": [
    "def init_temp_vars(nsoil):\n",
    "    return np.zeros(nsoil)\n",
    "def compute_soil_freezing(nsoil=5,\n",
    "                          soil_thick_sl=np.full(5,fill_value=0.05),\n",
    "                          soil_bulk_dens_sl=np.full(5,fill_value=1),\n",
    "                          soil_heat_capa_sl= np.full(5,fill_value=1000),\n",
    "                          soil_w_fc_sl = np.full(5,fill_value=1.2),\n",
    "                          soil_t_sl=np.full(5,fill_value=293.15),\n",
    "                          soil_w_sl=np.ones(5),\n",
    "                          soil_icew_sl=np.ones(5),\n",
    "                         soil_heat_sl=np.zeros(5)):\n",
    "    \n",
    "    \"\"\"Compute soil freezing based on soil profile parameters, soil temperature, moisture\n",
    "    and layer heat fluxes\n",
    "    Inputs:\n",
    "    - nsoil : number of soil layers [-]\n",
    "    - soil_thick_sl : soil thickness [m]\n",
    "    - soil_heat_capacity_dens_sl [kg m-1]\n",
    "    - soil_bulk_dens_sl [kg m-1]\n",
    "    - soil_w_capa_sl : volumetric soil water field capacity for each layer layer [m]\n",
    "    - soil_t_sl : soil temperature per layer [K]\n",
    "    - soil_w_sl : volumetric soil water per layer [m]\n",
    "    - soil_icew_sl : volumetric ice water per layer in water equivalent [m]\n",
    "    - soil_heat_sl : heat transfer per layer (downwards) [kJ m-2 s-1]\n",
    "\n",
    "    \"\"\"\n",
    "    ###Soil Freezing###\n",
    "    # condition for frozen temperature and available liquid water in soil layers \n",
    "    frozen_iswater_condition = np.where((soil_t_sl[:] < sc.Tzero) & (soil_w_sl[:] > 0))\n",
    "\n",
    "\n",
    "    # Calculate heat deficit past freezing point \n",
    "    hlp1 = init_temp_vars(nsoil)\n",
    "    hlp1[frozen_iswater_condition] = soil_heat_capa_sl[frozen_iswater_condition]  \\\n",
    "                                    * soil_bulk_dens_sl[frozen_iswater_condition] \\\n",
    "                                    * soil_thick_sl[frozen_iswater_condition] \\\n",
    "                                    * (soil_t_sl[frozen_iswater_condition] - sc.Tzero) \n",
    "    # Maximum latent heat release from freezing per soil layer\n",
    "    hlp2 = init_temp_vars(nsoil)\n",
    "    hlp2[frozen_iswater_condition] = sc.latent_heat_fusion * sc.w_dens * soil_w_sl[frozen_iswater_condition]\n",
    "    \n",
    "    # Define heat deficit condition\n",
    "    # heat deficit equal or less than total potential release of fusion from soil layer\n",
    "    heatdef_le_fusheat_condition = np.where(-hlp2 <= hlp1) \n",
    "    # heat deficit is greater than total potential release of fusion from soil layer\n",
    "    heatdef_gt_fusheat_condition = np.where(-hlp2 > hlp1)\n",
    "    w_soil_freeze_flx = init_temp_vars(nsoil)\n",
    "    w_soil_freeze_flx[heatdef_gt_fusheat_condition] = np.minimum(soil_w_sl[heatdef_gt_fusheat_condition],\n",
    "                                                    - hlp1[heatdef_gt_fusheat_condition] \\\n",
    "                                                    / (sc.w_dens * sc.latent_heat_fusion))\n",
    "    w_soil_freeze_flx[heatdef_gt_fusheat_condition] = np.minimum(w_soil_freeze_flx[heatdef_gt_fusheat_condition] \\\n",
    "                                                    * sc.rel_vol_w2ice,\n",
    "                                                    soil_w_fc_sl[heatdef_gt_fusheat_condition] \\\n",
    "                                                    - soil_icew_sl[heatdef_gt_fusheat_condition] * \n",
    "                                                    sc.rel_vol_w2ice)\n",
    "    return soil_t_sl,soil_w_sl,soil_icew_sl"
   ]
  },
  {
   "cell_type": "code",
   "execution_count": 13,
   "metadata": {},
   "outputs": [
    {
     "name": "stdout",
     "output_type": "stream",
     "text": [
      "soil layer temperatures [K] [293.15 293.15 293.15 293.15 293.15]\n",
      "soil layer water [m] [1. 1. 1. 1. 1.]\n",
      "soil_ice_sl [1. 1. 1. 1. 1.]\n"
     ]
    }
   ],
   "source": [
    "#Test\n",
    "soil_t_sl,soil_w_sl,soil_ice_sl = compute_soil_freezing()\n",
    "#Give output\n",
    "print(\"soil layer temperatures [K]\",soil_t_sl)\n",
    "print(\"soil layer water [m]\", soil_w_sl)\n",
    "print(\"soil_ice_sl\",soil_ice_sl)"
   ]
  },
  {
   "cell_type": "code",
   "execution_count": 47,
   "metadata": {},
   "outputs": [
    {
     "ename": "IndentationError",
     "evalue": "unexpected indent (<ipython-input-47-827c23714b74>, line 2)",
     "output_type": "error",
     "traceback": [
      "\u001b[1;36m  File \u001b[1;32m\"<ipython-input-47-827c23714b74>\"\u001b[1;36m, line \u001b[1;32m2\u001b[0m\n\u001b[1;33m    get_ipython().getoutput('')\u001b[0m\n\u001b[1;37m    ^\u001b[0m\n\u001b[1;31mIndentationError\u001b[0m\u001b[1;31m:\u001b[0m unexpected indent\n"
     ]
    }
   ],
   "source": [
    "  "
   ]
  },
  {
   "cell_type": "code",
   "execution_count": null,
   "metadata": {},
   "outputs": [],
   "source": []
  }
 ],
 "metadata": {
  "kernelspec": {
   "display_name": "Python 3",
   "language": "python",
   "name": "python3"
  },
  "language_info": {
   "codemirror_mode": {
    "name": "ipython",
    "version": 3
   },
   "file_extension": ".py",
   "mimetype": "text/x-python",
   "name": "python",
   "nbconvert_exporter": "python",
   "pygments_lexer": "ipython3",
   "version": "3.7.6"
  }
 },
 "nbformat": 4,
 "nbformat_minor": 4
}
